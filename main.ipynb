{
 "cells": [
  {
   "cell_type": "markdown",
   "metadata": {},
   "source": [
    "# Problem solving by searching\n",
    "Demonstration of Dijkstra's, A* Search and Tabu Search algorithms for finding the shortest path between given stops A and B."
   ]
  },
  {
   "cell_type": "markdown",
   "metadata": {},
   "source": [
    "## Task 1 - Dijkstra's and A* Search algorithm\n",
    "The application should accept input in form of 4 variables:\n",
    "- the starting stop A (marked as `start_stop`)\n",
    "- the ending stop B (marked as `goal`)\n",
    "- optimization criterion (value `t` denotes travel time minimization, value `p` means minimization of the number of transfers)\n",
    "- starting time."
   ]
  },
  {
   "cell_type": "markdown",
   "metadata": {},
   "source": [
    "### Classes and helper-functions implementation\n",
    "Before we implement the algorithms, let's first prepare environment to work. We will use the `Connection` class to store each row of `connection_graph.csv` file, and the `Graph` class to load and store the connections. We will also use `PriorityQueue` for stops (and lines) prioritization in Dijkstra's and A* Search algorithms."
   ]
  },
  {
   "cell_type": "code",
   "execution_count": 1,
   "metadata": {},
   "outputs": [],
   "source": [
    "import csv\n",
    "import heapq\n",
    "import argparse\n",
    "from datetime import datetime, timedelta\n",
    "import math\n",
    "import time\n",
    "import sys\n",
    "import random"
   ]
  },
  {
   "cell_type": "code",
   "execution_count": 2,
   "metadata": {},
   "outputs": [],
   "source": [
    "def print_path(path):\n",
    "    for connection in path:\n",
    "        print(f\"{connection.start_stop} -> {connection.end_stop}, Line: {connection.line}, Departure: {connection.departure_time.time()}, Arrival: {connection.arrival_time.time()}\")\n",
    "\n",
    "def time_diff_seconds(time1, time2):\n",
    "    return (time1 - time2).total_seconds()\n",
    "\n",
    "def calculate_distance(lat1, lon1, lat2, lon2):\n",
    "    return math.sqrt((lat1 - lat2) ** 2 + (lon1 - lon2) ** 2)\n",
    "\n",
    "def calculate_distance_stops(stop1, stop2, graph):\n",
    "    lat1, lon1 = graph.get_connections(stop1)[0].start_stop_lat, graph.get_connections(stop1)[0].start_stop_lon\n",
    "    lat2, lon2 = graph.get_connections(stop2)[0].start_stop_lat, graph.get_connections(stop2)[0].start_stop_lon\n",
    "    return calculate_distance(lat1, lon1, lat2, lon2)\n",
    "\n",
    "def choose_common_line(graph, current, goal):\n",
    "    current_lines = {connection.line for connection in graph.get_connections(current)}\n",
    "    end_lines = {connection.line for connection in graph.get_connections(goal)}\n",
    "    common_lines = current_lines.intersection(end_lines)\n",
    "    if common_lines:\n",
    "        return list(common_lines)[0]\n",
    "    else:\n",
    "        return None\n",
    "    \n",
    "def parse_time(time_str):\n",
    "    try:\n",
    "        hours, minutes, seconds = map(int, time_str.split(':'))\n",
    "    except ValueError:\n",
    "        try:\n",
    "            hours, minutes = map(int, time_str.split(':'))\n",
    "            seconds = 0\n",
    "        except ValueError:\n",
    "            raise argparse.ArgumentTypeError(\"Invalid time format. Please use HH:MM or HH:MM:SS.\")\n",
    "    base_date = datetime(2023, 3, 2)\n",
    "    if hours >= 24:\n",
    "        hours -= 24\n",
    "        return base_date.replace(hour=hours, minute=minutes, second=seconds) + timedelta(days=1)\n",
    "    elif hours < 0:\n",
    "        hours += 24\n",
    "        return base_date.replace(hour=hours, minute=minutes, second=seconds) - timedelta(days=1)\n",
    "    else:\n",
    "        return base_date.replace(hour=hours, minute=minutes, second=seconds)"
   ]
  },
  {
   "cell_type": "code",
   "execution_count": 3,
   "metadata": {},
   "outputs": [],
   "source": [
    "class Connection:\n",
    "    def __init__(self, company, line, departure_time, arrival_time, start_stop, end_stop, start_stop_lat, start_stop_lon, end_stop_lat, end_stop_lon):\n",
    "        self.company = company\n",
    "        self.line = line\n",
    "        self.departure_time = departure_time\n",
    "        self.arrival_time = arrival_time\n",
    "        self.start_stop = start_stop\n",
    "        self.end_stop = end_stop\n",
    "        self.start_stop_lat = start_stop_lat\n",
    "        self.start_stop_lon = start_stop_lon\n",
    "        self.end_stop_lat = end_stop_lat\n",
    "        self.end_stop_lon = end_stop_lon\n",
    "    \n",
    "    def __str__(self) -> str:\n",
    "        return f\"Company: {self.company}, Line: {self.line}, Departure: {self.departure_time}, Arrival: {self.arrival_time}, Start Stop: {self.start_stop}, End Stop: {self.end_stop}, Start Stop Lat: {self.start_stop_lat}, Start Stop Lon: {self.start_stop_lon}, End Stop Lat: {self.end_stop_lat}, End Stop Lon: {self.end_stop_lon}\"\n"
   ]
  },
  {
   "cell_type": "code",
   "execution_count": 4,
   "metadata": {},
   "outputs": [],
   "source": [
    "class Graph:\n",
    "    def __init__(self):\n",
    "        self.graph = {}\n",
    "\n",
    "    def load_connections(self, file_path):\n",
    "        # Loading connections from CSV into self.connections\n",
    "        with open(file_path, newline='', encoding='utf-8') as csvfile:\n",
    "            reader = csv.DictReader(csvfile)\n",
    "            for row in reader:\n",
    "                departure_time = parse_time(row['departure_time'])\n",
    "                arrival_time = parse_time(row['arrival_time'])\n",
    "                connection = Connection(\n",
    "                    row['company'],\n",
    "                    row['line'],\n",
    "                    departure_time,\n",
    "                    arrival_time,\n",
    "                    row['start_stop'],\n",
    "                    row['end_stop'],\n",
    "                    float(row['start_stop_lat']),\n",
    "                    float(row['start_stop_lon']),\n",
    "                    float(row['end_stop_lat']),\n",
    "                    float(row['end_stop_lon'])\n",
    "                )\n",
    "                if connection.start_stop not in self.graph:\n",
    "                    self.graph[connection.start_stop] = []\n",
    "                self.graph[connection.start_stop].append(connection)\n",
    "\n",
    "    def get_connections(self, stop):\n",
    "        return self.graph.get(stop, [])"
   ]
  },
  {
   "cell_type": "code",
   "execution_count": 5,
   "metadata": {},
   "outputs": [],
   "source": [
    "class PriorityQueue:\n",
    "    def __init__(self):\n",
    "        self.elements = []\n",
    "\n",
    "    def empty(self):\n",
    "        return not self.elements\n",
    "\n",
    "    def put(self, item, priority):\n",
    "        heapq.heappush(self.elements, (priority, item))\n",
    "\n",
    "    def get(self):\n",
    "        return heapq.heappop(self.elements)[1]"
   ]
  },
  {
   "cell_type": "code",
   "execution_count": 5,
   "metadata": {},
   "outputs": [],
   "source": [
    "# Loading connections from CSV file\n",
    "graph = Graph()\n",
    "graph.load_connections('connection_graph.csv')"
   ]
  },
  {
   "cell_type": "markdown",
   "metadata": {},
   "source": [
    "### Dijkstra's Algorithm\n",
    "Shortest path search from A to B using Dijkstra's algorithm, based on travel time criterion."
   ]
  },
  {
   "cell_type": "code",
   "execution_count": 9,
   "metadata": {},
   "outputs": [],
   "source": [
    "def dijkstra(graph, start, goal, start_time):\n",
    "    frontier = PriorityQueue()\n",
    "    frontier.put(start, 0)\n",
    "    came_from = {}\n",
    "    cost_so_far = {start: 0}\n",
    "    path = []\n",
    "    \n",
    "    journey_start_time = start_time\n",
    "    \n",
    "    while not frontier.empty():\n",
    "        current = frontier.get()\n",
    "        \n",
    "        # modification: early exit\n",
    "        if current == goal:\n",
    "            break\n",
    "        \n",
    "        for connection in graph.get_connections(current):\n",
    "            next_stop = connection.end_stop\n",
    "            departure_time = connection.departure_time\n",
    "            arrival_time = connection.arrival_time\n",
    "            \n",
    "            if departure_time >= start_time:\n",
    "                waiting_time = time_diff_seconds(departure_time, start_time)\n",
    "                travel_time = time_diff_seconds(arrival_time, departure_time)\n",
    "                new_cost = cost_so_far[current] + travel_time + waiting_time\n",
    "                if next_stop not in cost_so_far or new_cost < cost_so_far[next_stop]:\n",
    "                    cost_so_far[next_stop] = new_cost\n",
    "                    priority = new_cost\n",
    "                    frontier.put(next_stop, priority)\n",
    "                    came_from[next_stop] = (current, connection)\n",
    "            if current in came_from:\n",
    "                start_time = (came_from[current][1]).arrival_time \n",
    "                            \n",
    "    current = goal\n",
    "    if current not in came_from:\n",
    "        return []\n",
    "    while current != start:\n",
    "        path.append(came_from[current][1])\n",
    "        current = came_from[current][0]\n",
    "    \n",
    "    path.reverse()\n",
    "    \n",
    "    journey_end_time = path[-1].arrival_time\n",
    "    total_journey_time = journey_end_time - journey_start_time\n",
    "    \n",
    "    return path, total_journey_time"
   ]
  },
  {
   "cell_type": "markdown",
   "metadata": {},
   "source": [
    "Now let's take some sample data to see how it works."
   ]
  },
  {
   "cell_type": "code",
   "execution_count": 10,
   "metadata": {},
   "outputs": [
    {
     "name": "stdout",
     "output_type": "stream",
     "text": [
      "Kasprowicza -> Syrokomli, Line: 105, Departure: 12:07:00, Arrival: 12:08:00\n",
      "Syrokomli -> Pola, Line: 105, Departure: 12:08:00, Arrival: 12:09:00\n",
      "Pola -> Broniewskiego, Line: 105, Departure: 12:09:00, Arrival: 12:11:00\n",
      "Broniewskiego -> Bałtycka, Line: 105, Departure: 12:11:00, Arrival: 12:13:00\n",
      "Bałtycka -> Bezpieczna, Line: 105, Departure: 12:13:00, Arrival: 12:15:00\n",
      "Bezpieczna -> Paprotna, Line: 105, Departure: 12:15:00, Arrival: 12:17:00\n",
      "Paprotna -> Irysowa, Line: 105, Departure: 12:17:00, Arrival: 12:18:00\n",
      "Irysowa -> Obornicka (Obwodnica), Line: 105, Departure: 12:18:00, Arrival: 12:20:00\n",
      "Obornicka (Obwodnica) -> Ostowa (Muzeum Militarne), Line: 105, Departure: 12:20:00, Arrival: 12:21:00\n",
      "Ostowa (Muzeum Militarne) -> Pełczyńska (Stacja kolejowa), Line: 105, Departure: 12:21:00, Arrival: 12:22:00\n",
      "Pełczyńska (Stacja kolejowa) -> Kominiarska, Line: 105, Departure: 12:22:00, Arrival: 12:23:00\n",
      "\n",
      "Starting time: 2023-03-02 12:07:00\n",
      "Total journey time: 0:16:00\n"
     ]
    },
    {
     "name": "stderr",
     "output_type": "stream",
     "text": [
      "Minimized Criterion: Travel Time\n",
      "Time Required: 0.2820556163787842\n"
     ]
    }
   ],
   "source": [
    "start_stop = \"Kasprowicza\"\n",
    "goal = \"Kominiarska\"\n",
    "criterion = \"t\"\n",
    "if criterion != 'p' and criterion != 't':\n",
    "    raise argparse.ArgumentTypeError(\"Optimization criterion should be either 't' or 'p'.\")\n",
    "\n",
    "start_time = \"12:07:00\"\n",
    "start_time = parse_time(start_time)\n",
    "\n",
    "minimized_criterion_value = \"Travel Time\" if criterion == 't' else \"Number of Transfers\"\n",
    "\n",
    "start = time.time()\n",
    "dijkstra_path, dijkstra_journey = dijkstra(graph, start_stop, goal, start_time)\n",
    "end = time.time()\n",
    "req_time = end - start\n",
    "\n",
    "\n",
    "print_path(dijkstra_path)\n",
    "\n",
    "print()\n",
    "print(f\"Starting time: {start_time}\")\n",
    "print(f\"Total journey time: {dijkstra_journey}\")\n",
    "print(f\"Minimized Criterion: {minimized_criterion_value}\", file=sys.stderr)\n",
    "print(f\"Time Required: {req_time}\", file=sys.stderr)"
   ]
  },
  {
   "cell_type": "code",
   "execution_count": 11,
   "metadata": {},
   "outputs": [
    {
     "name": "stdout",
     "output_type": "stream",
     "text": [
      "GALERIA DOMINIKAŃSKA -> Świdnicka, Line: 110, Departure: 00:15:00, Arrival: 00:16:00\n",
      "Świdnicka -> Rynek, Line: 110, Departure: 00:16:00, Arrival: 00:18:00\n",
      "Rynek -> Mosty Pomorskie, Line: 110, Departure: 00:18:00, Arrival: 00:19:00\n",
      "Mosty Pomorskie -> Pomorska, Line: 110, Departure: 00:19:00, Arrival: 00:20:00\n",
      "Pomorska -> pl. Strzelecki, Line: 110, Departure: 00:21:00, Arrival: 00:23:00\n",
      "pl. Strzelecki -> Kleczkowska, Line: 110, Departure: 00:23:00, Arrival: 00:25:00\n",
      "Kleczkowska -> Bałtycka, Line: 110, Departure: 00:25:00, Arrival: 00:28:00\n",
      "Bałtycka -> Bezpieczna, Line: 110, Departure: 00:28:00, Arrival: 00:29:00\n",
      "\n",
      "Starting time: 2023-03-03 00:09:11\n",
      "Total journey time: 0:19:49\n"
     ]
    },
    {
     "name": "stderr",
     "output_type": "stream",
     "text": [
      "Minimized Criterion: Travel Time\n",
      "Time Required: 0.11561179161071777\n"
     ]
    }
   ],
   "source": [
    "start_stop = \"GALERIA DOMINIKAŃSKA\"\n",
    "goal = \"Bezpieczna\"\n",
    "criterion = \"t\"\n",
    "if criterion != 'p' and criterion != 't':\n",
    "    raise argparse.ArgumentTypeError(\"Optimization criterion should be either 't' or 'p'.\")\n",
    "\n",
    "start_time = \"24:09:11\"\n",
    "start_time = parse_time(start_time)\n",
    "\n",
    "minimized_criterion_value = \"Travel Time\" if criterion == 't' else \"Number of Transfers\"\n",
    "\n",
    "start = time.time()\n",
    "dijkstra_path, dijkstra_journey = dijkstra(graph, start_stop, goal, start_time)\n",
    "end = time.time()\n",
    "req_time = end - start\n",
    "\n",
    "\n",
    "print_path(dijkstra_path)\n",
    "\n",
    "print()\n",
    "print(f\"Starting time: {start_time}\")\n",
    "print(f\"Total journey time: {dijkstra_journey}\")\n",
    "print(f\"Minimized Criterion: {minimized_criterion_value}\", file=sys.stderr)\n",
    "print(f\"Time Required: {req_time}\", file=sys.stderr)"
   ]
  },
  {
   "cell_type": "code",
   "execution_count": 13,
   "metadata": {},
   "outputs": [
    {
     "name": "stdout",
     "output_type": "stream",
     "text": [
      "Pereca -> Grabiszyńska, Line: 11, Departure: 09:09:00, Arrival: 09:10:00\n",
      "Grabiszyńska -> Kolejowa, Line: 11, Departure: 09:10:00, Arrival: 09:11:00\n",
      "Kolejowa -> pl. Legionów, Line: 11, Departure: 09:11:00, Arrival: 09:13:00\n",
      "pl. Legionów -> Narodowe Forum Muzyki, Line: 11, Departure: 09:13:00, Arrival: 09:15:00\n",
      "Narodowe Forum Muzyki -> Zamkowa, Line: 11, Departure: 09:15:00, Arrival: 09:16:00\n",
      "Zamkowa -> Świdnicka, Line: 11, Departure: 09:16:00, Arrival: 09:18:00\n",
      "Świdnicka -> GALERIA DOMINIKAŃSKA, Line: 11, Departure: 09:18:00, Arrival: 09:21:00\n",
      "GALERIA DOMINIKAŃSKA -> pl. Nowy Targ, Line: 8, Departure: 09:21:00, Arrival: 09:22:00\n",
      "pl. Nowy Targ -> Hala Targowa, Line: 8, Departure: 09:22:00, Arrival: 09:23:00\n",
      "Hala Targowa -> pl. Bema, Line: 8, Departure: 09:23:00, Arrival: 09:26:00\n",
      "pl. Bema -> Na Szańcach, Line: 8, Departure: 09:26:00, Arrival: 09:27:00\n",
      "Na Szańcach -> Jedności Narodowej, Line: 8, Departure: 09:27:00, Arrival: 09:28:00\n",
      "Jedności Narodowej -> Nowowiejska, Line: 11, Departure: 09:28:00, Arrival: 09:30:00\n",
      "Nowowiejska -> Daszyńskiego, Line: 11, Departure: 09:30:00, Arrival: 09:31:00\n",
      "Daszyńskiego -> Mosty Warszawskie, Line: 11, Departure: 09:31:00, Arrival: 09:32:00\n",
      "Mosty Warszawskie -> KROMERA, Line: 11, Departure: 09:32:00, Arrival: 09:35:00\n",
      "\n",
      "Starting time: 2023-03-02 09:07:00\n",
      "Total journey time: 0:28:00\n"
     ]
    },
    {
     "name": "stderr",
     "output_type": "stream",
     "text": [
      "Minimized Criterion: Travel Time\n",
      "Time Required: 1.4258911609649658\n"
     ]
    }
   ],
   "source": [
    "start_stop = \"Pereca\"\n",
    "goal = \"KROMERA\"\n",
    "criterion = \"t\"\n",
    "if criterion != 'p' and criterion != 't':\n",
    "    raise argparse.ArgumentTypeError(\"Optimization criterion should be either 't' or 'p'.\")\n",
    "\n",
    "start_time = \"9:07\"\n",
    "start_time = parse_time(start_time)\n",
    "\n",
    "minimized_criterion_value = \"Travel Time\" if criterion == 't' else \"Number of Transfers\"\n",
    "\n",
    "start = time.time()\n",
    "dijkstra_path, dijkstra_journey = dijkstra(graph, start_stop, goal, start_time)\n",
    "end = time.time()\n",
    "req_time = end - start\n",
    "\n",
    "\n",
    "print_path(dijkstra_path)\n",
    "\n",
    "print()\n",
    "print(f\"Starting time: {start_time}\")\n",
    "print(f\"Total journey time: {dijkstra_journey}\")\n",
    "print(f\"Minimized Criterion: {minimized_criterion_value}\", file=sys.stderr)\n",
    "print(f\"Time Required: {req_time}\", file=sys.stderr)"
   ]
  },
  {
   "cell_type": "code",
   "execution_count": 14,
   "metadata": {},
   "outputs": [
    {
     "name": "stdout",
     "output_type": "stream",
     "text": [
      "Gąsiorowskiego -> Jutrosińska, Line: 144, Departure: 14:58:00, Arrival: 14:59:00\n",
      "Jutrosińska -> Mochnackiego, Line: K, Departure: 14:59:00, Arrival: 15:00:00\n",
      "Mochnackiego -> Kamieńskiego, Line: K, Departure: 15:00:00, Arrival: 15:02:00\n",
      "Kamieńskiego -> Broniewskiego, Line: K, Departure: 15:02:00, Arrival: 15:04:00\n",
      "Broniewskiego -> Trzebnicka, Line: 1, Departure: 15:04:00, Arrival: 15:07:00\n",
      "Trzebnicka -> DWORZEC NADODRZE, Line: 1, Departure: 15:07:00, Arrival: 15:09:00\n",
      "DWORZEC NADODRZE -> Słowiańska, Line: 1, Departure: 15:10:00, Arrival: 15:12:00\n",
      "Słowiańska -> Nowowiejska, Line: 1, Departure: 15:12:00, Arrival: 15:14:00\n",
      "Nowowiejska -> Wyszyńskiego, Line: 1, Departure: 15:14:00, Arrival: 15:16:00\n",
      "Wyszyńskiego -> Prusa, Line: 1, Departure: 15:16:00, Arrival: 15:17:00\n",
      "Prusa -> Piastowska, Line: 1, Departure: 15:17:00, Arrival: 15:19:00\n",
      "Piastowska -> PL. GRUNWALDZKI, Line: 1, Departure: 15:19:00, Arrival: 15:22:00\n",
      "PL. GRUNWALDZKI -> most Grunwaldzki, Line: 13, Departure: 15:23:00, Arrival: 15:24:00\n",
      "most Grunwaldzki -> Urząd Wojewódzki (Impart), Line: 13, Departure: 15:24:00, Arrival: 15:26:00\n",
      "Urząd Wojewódzki (Impart) -> pl. Wróblewskiego, Line: 16, Departure: 15:26:00, Arrival: 15:29:00\n",
      "pl. Wróblewskiego -> Komuny Paryskiej, Line: 16, Departure: 15:29:00, Arrival: 15:30:00\n",
      "\n",
      "Starting time: 2023-03-02 14:55:00\n",
      "Total journey time: 0:35:00\n"
     ]
    },
    {
     "name": "stderr",
     "output_type": "stream",
     "text": [
      "Minimized Criterion: Travel Time\n",
      "Time Required: 0.6757371425628662\n"
     ]
    }
   ],
   "source": [
    "start_stop = \"Gąsiorowskiego\"\n",
    "goal = \"Komuny Paryskiej\"\n",
    "criterion = \"t\"\n",
    "if criterion != 'p' and criterion != 't':\n",
    "    raise argparse.ArgumentTypeError(\"Optimization criterion should be either 't' or 'p'.\")\n",
    "\n",
    "start_time = \"14:55\"\n",
    "start_time = parse_time(start_time)\n",
    "\n",
    "minimized_criterion_value = \"Travel Time\" if criterion == 't' else \"Number of Transfers\"\n",
    "\n",
    "start = time.time()\n",
    "dijkstra_path, dijkstra_journey = dijkstra(graph, start_stop, goal, start_time)\n",
    "end = time.time()\n",
    "req_time = end - start\n",
    "\n",
    "\n",
    "print_path(dijkstra_path)\n",
    "\n",
    "print()\n",
    "print(f\"Starting time: {start_time}\")\n",
    "print(f\"Total journey time: {dijkstra_journey}\")\n",
    "print(f\"Minimized Criterion: {minimized_criterion_value}\", file=sys.stderr)\n",
    "print(f\"Time Required: {req_time}\", file=sys.stderr)"
   ]
  },
  {
   "cell_type": "markdown",
   "metadata": {},
   "source": [
    "Here we can test it with our own input:"
   ]
  },
  {
   "cell_type": "code",
   "execution_count": 16,
   "metadata": {},
   "outputs": [],
   "source": [
    "start_stop = input(\"Please provide the starting stop: \")\n",
    "goal = input(\"Please provide the ending stop: \")\n",
    "#criterion = input(f\"Optimization criterion:\\n\\tt (travel time)\\n\\tp (number of transfers)\")\n",
    "#if criterion != 'p' and criterion != 't':\n",
    "#    raise argparse.ArgumentTypeError(\"Optimization criterion should be either 't' or 'p'.\")\n",
    "\n",
    "start_time = input(\"Please provide time in form HH:MM or HH:MM:SS: \")\n",
    "start_time = parse_time(start_time)\n",
    "\n",
    "\n",
    "minimized_criterion_value = \"Travel Time\" if criterion == 't' else \"Number of Transfers\""
   ]
  },
  {
   "cell_type": "code",
   "execution_count": 22,
   "metadata": {},
   "outputs": [],
   "source": [
    "dijkstra_path, dijkstra_journey = dijkstra(graph, start_stop, goal, start_time)"
   ]
  },
  {
   "cell_type": "code",
   "execution_count": 23,
   "metadata": {},
   "outputs": [
    {
     "name": "stdout",
     "output_type": "stream",
     "text": [
      "Kasprowicza -> Syrokomli, Line: 105, Departure: 12:07:00, Arrival: 12:08:00\n",
      "Syrokomli -> Pola, Line: 105, Departure: 12:08:00, Arrival: 12:09:00\n",
      "Pola -> Broniewskiego, Line: 105, Departure: 12:09:00, Arrival: 12:11:00\n",
      "Broniewskiego -> Bałtycka, Line: 105, Departure: 12:11:00, Arrival: 12:13:00\n",
      "Bałtycka -> Bezpieczna, Line: 105, Departure: 12:13:00, Arrival: 12:15:00\n",
      "Bezpieczna -> Paprotna, Line: 105, Departure: 12:15:00, Arrival: 12:17:00\n",
      "Paprotna -> Irysowa, Line: 105, Departure: 12:17:00, Arrival: 12:18:00\n",
      "Irysowa -> Obornicka (Obwodnica), Line: 105, Departure: 12:18:00, Arrival: 12:20:00\n",
      "Obornicka (Obwodnica) -> Ostowa (Muzeum Militarne), Line: 105, Departure: 12:20:00, Arrival: 12:21:00\n",
      "Ostowa (Muzeum Militarne) -> Pełczyńska (Stacja kolejowa), Line: 105, Departure: 12:21:00, Arrival: 12:22:00\n",
      "Pełczyńska (Stacja kolejowa) -> Kominiarska, Line: 105, Departure: 12:22:00, Arrival: 12:23:00\n",
      "Starting time: 2023-03-02 12:07:00\n",
      "Total journey time: 0:16:00\n"
     ]
    }
   ],
   "source": [
    "print_path(dijkstra_path)\n",
    "\n",
    "print()\n",
    "print(f\"Starting time: {start_time}\")\n",
    "print(f\"Total journey time: {dijkstra_journey}\")"
   ]
  },
  {
   "cell_type": "markdown",
   "metadata": {},
   "source": [
    "### A* Search Algorithm\n",
    "So basically, A* search algorithm is just Dijkstra's with heuristic...\n",
    "Here we are going to discuss both criteria: time optimization and number of changes optimization."
   ]
  },
  {
   "cell_type": "markdown",
   "metadata": {},
   "source": [
    "#### A* Search with Time Optimization Criterion\n",
    "We are going to use heuristic that calculates estimated time needed to arrive at the goal based on velociy gained in the last transfer and distance between current stop and the goal. First, we calculate the distance between current stop, and the next one, we also calculate time needed for this connection, and from that we can calculate the velocity. Then we calculate the distance between the current stop and the goal, and with given velocity, we can estimate the arrival time. "
   ]
  },
  {
   "cell_type": "code",
   "execution_count": 15,
   "metadata": {},
   "outputs": [],
   "source": [
    "def heuristic_t(graph, current_connection, goal):\n",
    "        current_lat = current_connection.start_stop_lat\n",
    "        current_lon = current_connection.start_stop_lon\n",
    "        next_lat = current_connection.end_stop_lat\n",
    "        next_lon = current_connection.end_stop_lon\n",
    "        \n",
    "        last_distance = calculate_distance(current_lat, current_lon, next_lat, next_lon)\n",
    "        \n",
    "        arrival = current_connection.arrival_time\n",
    "        departure = current_connection.departure_time\n",
    "        \n",
    "        last_time = time_diff_seconds(arrival, departure)\n",
    "        last_velocity = last_distance / last_time if last_time > 0 else float('inf')\n",
    "        \n",
    "        goal_connection = graph.get_connections(goal)[0]\n",
    "        goal_lat = goal_connection.start_stop_lat\n",
    "        goal_lon = goal_connection.start_stop_lon\n",
    "        \n",
    "        to_goal_distance = calculate_distance(goal_lat, goal_lon, current_lat, current_lon)\n",
    "        if last_velocity == 0:\n",
    "            estimated_time = float('inf')\n",
    "        elif last_velocity == float('inf'):\n",
    "            estimated_time = 0 \n",
    "        else:\n",
    "            estimated_time = to_goal_distance / last_velocity\n",
    "        return estimated_time"
   ]
  },
  {
   "cell_type": "code",
   "execution_count": 16,
   "metadata": {},
   "outputs": [],
   "source": [
    "def a_star_time(graph, start, goal, start_time):\n",
    "    frontier = PriorityQueue()\n",
    "    frontier.put(start, 0)\n",
    "    came_from = {}\n",
    "    cost_so_far = {start: 0}\n",
    "    path = []\n",
    "\n",
    "    journey_start_time = start_time\n",
    "        \n",
    "    while not frontier.empty():\n",
    "        current = frontier.get()\n",
    "        \n",
    "        # modification: early exit\n",
    "        if current == goal:\n",
    "            break\n",
    "        \n",
    "        for connection in graph.get_connections(current):\n",
    "            next_stop = connection.end_stop\n",
    "            departure_time = connection.departure_time\n",
    "            arrival_time = connection.arrival_time\n",
    "            \n",
    "            if departure_time >= start_time:\n",
    "                waiting_time = time_diff_seconds(departure_time, start_time)\n",
    "                travel_time = time_diff_seconds(arrival_time, departure_time)\n",
    "                new_cost = cost_so_far[current] + travel_time + waiting_time\n",
    "                if next_stop not in cost_so_far or new_cost < cost_so_far[next_stop]:\n",
    "                    cost_so_far[next_stop] = new_cost\n",
    "                    priority = new_cost + heuristic_t(graph, connection, goal) # here we just add heuristic\n",
    "                    frontier.put(next_stop, priority)\n",
    "                    came_from[next_stop] = (current, connection)\n",
    "            if current in came_from:\n",
    "                start_time = (came_from[current][1]).arrival_time \n",
    "                            \n",
    "    current = goal\n",
    "    if current not in came_from:\n",
    "        return []\n",
    "    while current != start:\n",
    "        path.append(came_from[current][1])\n",
    "        current = came_from[current][0]\n",
    "    \n",
    "    path.reverse()\n",
    "    \n",
    "    journey_end_time = path[-1].arrival_time\n",
    "    total_journey_time = journey_end_time - journey_start_time\n",
    "    \n",
    "    return path, total_journey_time  "
   ]
  },
  {
   "cell_type": "markdown",
   "metadata": {},
   "source": [
    "And now, let's see some sample data to see how it works."
   ]
  },
  {
   "cell_type": "code",
   "execution_count": 17,
   "metadata": {},
   "outputs": [
    {
     "name": "stdout",
     "output_type": "stream",
     "text": [
      "GALERIA DOMINIKAŃSKA -> Świdnicka, Line: 110, Departure: 00:15:00, Arrival: 00:16:00\n",
      "Świdnicka -> Rynek, Line: 110, Departure: 00:16:00, Arrival: 00:18:00\n",
      "Rynek -> Mosty Pomorskie, Line: 110, Departure: 00:18:00, Arrival: 00:19:00\n",
      "Mosty Pomorskie -> Pomorska, Line: 110, Departure: 00:19:00, Arrival: 00:20:00\n",
      "Pomorska -> pl. Strzelecki, Line: 110, Departure: 00:21:00, Arrival: 00:23:00\n",
      "pl. Strzelecki -> Kleczkowska, Line: 110, Departure: 00:23:00, Arrival: 00:25:00\n",
      "Kleczkowska -> Bałtycka, Line: 110, Departure: 00:25:00, Arrival: 00:28:00\n",
      "Bałtycka -> Bezpieczna, Line: 110, Departure: 00:28:00, Arrival: 00:29:00\n",
      "\n",
      "Starting time: 2023-03-03 00:09:11\n",
      "Total journey time: 0:19:49\n"
     ]
    },
    {
     "name": "stderr",
     "output_type": "stream",
     "text": [
      "Minimized Criterion: Travel Time\n",
      "Time Required: 0.05382084846496582\n"
     ]
    }
   ],
   "source": [
    "start_stop = \"GALERIA DOMINIKAŃSKA\"\n",
    "goal = \"Bezpieczna\"\n",
    "criterion = \"t\"\n",
    "if criterion != 'p' and criterion != 't':\n",
    "    raise argparse.ArgumentTypeError(\"Optimization criterion should be either 't' or 'p'.\")\n",
    "\n",
    "start_time = \"24:09:11\"\n",
    "start_time = parse_time(start_time)\n",
    "\n",
    "minimized_criterion_value = \"Travel Time\" if criterion == 't' else \"Number of Transfers\"\n",
    "\n",
    "start = time.time()\n",
    "a_star_t_path, a_star_t_journey = a_star_time(graph, start_stop, goal, start_time)\n",
    "end = time.time()\n",
    "req_time = end - start\n",
    "\n",
    "\n",
    "print_path(a_star_t_path)\n",
    "\n",
    "print()\n",
    "print(f\"Starting time: {start_time}\")\n",
    "print(f\"Total journey time: {a_star_t_journey}\")\n",
    "print(f\"Minimized Criterion: {minimized_criterion_value}\", file=sys.stderr)\n",
    "print(f\"Time Required: {req_time}\", file=sys.stderr)"
   ]
  },
  {
   "cell_type": "code",
   "execution_count": 23,
   "metadata": {},
   "outputs": [
    {
     "name": "stdout",
     "output_type": "stream",
     "text": [
      "Dubois -> Rynek, Line: 132, Departure: 14:05:00, Arrival: 14:09:00\n",
      "Rynek -> PL. JANA PAWŁA II, Line: 132, Departure: 14:09:00, Arrival: 14:12:00\n",
      "PL. JANA PAWŁA II -> Młodych Techników, Line: 22, Departure: 14:12:00, Arrival: 14:14:00\n",
      "Młodych Techników -> pl. Strzegomski (Muzeum Współczesne), Line: 22, Departure: 14:14:00, Arrival: 14:15:00\n",
      "pl. Strzegomski (Muzeum Współczesne) -> Wrocław Mikołajów (Zachodnia), Line: 22, Departure: 14:15:00, Arrival: 14:17:00\n",
      "Wrocław Mikołajów (Zachodnia) -> Niedźwiedzia, Line: 22, Departure: 14:17:00, Arrival: 14:19:00\n",
      "Niedźwiedzia -> Małopanewska, Line: 22, Departure: 14:19:00, Arrival: 14:20:00\n",
      "Małopanewska -> Kwiska, Line: 22, Departure: 14:20:00, Arrival: 14:21:00\n",
      "Kwiska -> DH Astra, Line: 22, Departure: 14:21:00, Arrival: 14:23:00\n",
      "DH Astra -> Park Zachodni, Line: 22, Departure: 14:23:00, Arrival: 14:24:00\n",
      "Park Zachodni -> Bajana, Line: 22, Departure: 14:24:00, Arrival: 14:25:00\n",
      "Bajana -> Metalowców, Line: 22, Departure: 14:25:00, Arrival: 14:27:00\n",
      "Metalowców -> PILCZYCE, Line: 22, Departure: 14:27:00, Arrival: 14:28:00\n",
      "PILCZYCE -> Tarczyński Arena (Lotnicza), Line: 3, Departure: 14:31:00, Arrival: 14:33:00\n",
      "Tarczyński Arena (Lotnicza) -> Glinianki, Line: 3, Departure: 14:33:00, Arrival: 14:34:00\n",
      "Glinianki -> Aleja Architektów, Line: 3, Departure: 14:34:00, Arrival: 14:35:00\n",
      "Aleja Architektów -> Grabowa, Line: 3, Departure: 14:35:00, Arrival: 14:36:00\n",
      "Grabowa -> Kosmonautów (Szpital), Line: 3, Departure: 14:36:00, Arrival: 14:38:00\n",
      "Kosmonautów (Szpital) -> Kamiennogórska (Ośrodek dla niewidomych), Line: 3, Departure: 14:38:00, Arrival: 14:39:00\n",
      "Kamiennogórska (Ośrodek dla niewidomych) -> Złotnicka, Line: 3, Departure: 14:39:00, Arrival: 14:41:00\n",
      "Złotnicka -> Wschowska, Line: 3, Departure: 14:41:00, Arrival: 14:42:00\n",
      "Wschowska -> Jeleniogórska, Line: 3, Departure: 14:42:00, Arrival: 14:43:00\n",
      "Jeleniogórska -> LEŚNICA, Line: 3, Departure: 14:43:00, Arrival: 14:44:00\n",
      "\n",
      "Starting time: 2023-03-02 14:00:00\n",
      "Total journey time: 0:44:00\n"
     ]
    },
    {
     "name": "stderr",
     "output_type": "stream",
     "text": [
      "Minimized Criterion: Travel Time\n",
      "Time Required: 0.878741979598999\n"
     ]
    }
   ],
   "source": [
    "start_stop = \"Dubois\"\n",
    "goal = \"LEŚNICA\"\n",
    "criterion = \"t\"\n",
    "if criterion != 'p' and criterion != 't':\n",
    "    raise argparse.ArgumentTypeError(\"Optimization criterion should be either 't' or 'p'.\")\n",
    "\n",
    "start_time = \"14:00\"\n",
    "start_time = parse_time(start_time)\n",
    "\n",
    "minimized_criterion_value = \"Travel Time\" if criterion == 't' else \"Number of Transfers\"\n",
    "\n",
    "start = time.time()\n",
    "a_star_t_path, a_star_t_journey = a_star_time(graph, start_stop, goal, start_time)\n",
    "end = time.time()\n",
    "req_time = end - start\n",
    "\n",
    "\n",
    "print_path(a_star_t_path)\n",
    "\n",
    "print()\n",
    "print(f\"Starting time: {start_time}\")\n",
    "print(f\"Total journey time: {a_star_t_journey}\")\n",
    "print(f\"Minimized Criterion: {minimized_criterion_value}\", file=sys.stderr)\n",
    "print(f\"Time Required: {req_time}\", file=sys.stderr)"
   ]
  },
  {
   "cell_type": "code",
   "execution_count": 27,
   "metadata": {},
   "outputs": [
    {
     "name": "stdout",
     "output_type": "stream",
     "text": [
      "KSIĘŻE MAŁE -> Karwińska, Line: 124, Departure: 18:06:00, Arrival: 18:08:00\n",
      "Karwińska -> Park Wschodni, Line: 3, Departure: 18:08:00, Arrival: 18:09:00\n",
      "Park Wschodni -> Armii Krajowej, Line: 3, Departure: 18:09:00, Arrival: 18:10:00\n",
      "Armii Krajowej -> KRAKOWSKA (Centrum handlowe), Line: 114, Departure: 18:10:00, Arrival: 18:11:00\n",
      "KRAKOWSKA (Centrum handlowe) -> Krakowska, Line: 114, Departure: 18:11:00, Arrival: 18:12:00\n",
      "Krakowska -> Na Niskich Łąkach, Line: 114, Departure: 18:12:00, Arrival: 18:13:00\n",
      "Na Niskich Łąkach -> Świstackiego, Line: 114, Departure: 18:13:00, Arrival: 18:14:00\n",
      "Świstackiego -> Komuny Paryskiej, Line: 114, Departure: 18:14:00, Arrival: 18:15:00\n",
      "Komuny Paryskiej -> Komuny Paryskiej (szkoła), Line: 114, Departure: 18:15:00, Arrival: 18:16:00\n",
      "Komuny Paryskiej (szkoła) -> Wzgórze Partyzantów, Line: 114, Departure: 18:16:00, Arrival: 18:17:00\n",
      "Wzgórze Partyzantów -> Renoma, Line: 106, Departure: 18:17:00, Arrival: 18:19:00\n",
      "Renoma -> pl. Orląt Lwowskich, Line: 106, Departure: 18:19:00, Arrival: 18:22:00\n",
      "pl. Orląt Lwowskich -> PL. JANA PAWŁA II, Line: 21, Departure: 18:22:00, Arrival: 18:25:00\n",
      "PL. JANA PAWŁA II -> Młodych Techników, Line: 21, Departure: 18:25:00, Arrival: 18:27:00\n",
      "Młodych Techników -> pl. Strzegomski (Muzeum Współczesne), Line: 21, Departure: 18:27:00, Arrival: 18:28:00\n",
      "pl. Strzegomski (Muzeum Współczesne) -> Wrocław Mikołajów (Zachodnia), Line: 21, Departure: 18:28:00, Arrival: 18:30:00\n",
      "Wrocław Mikołajów (Zachodnia) -> Niedźwiedzia, Line: 21, Departure: 18:30:00, Arrival: 18:32:00\n",
      "Niedźwiedzia -> Małopanewska, Line: 21, Departure: 18:32:00, Arrival: 18:33:00\n",
      "Małopanewska -> Kwiska, Line: 21, Departure: 18:33:00, Arrival: 18:34:00\n",
      "Kwiska -> Wejherowska (Hala Orbita), Line: 104, Departure: 18:35:00, Arrival: 18:37:00\n",
      "Wejherowska (Hala Orbita) -> Milenijna (Hala Orbita), Line: 104, Departure: 18:37:00, Arrival: 18:39:00\n",
      "Milenijna (Hala Orbita) -> most Milenijny, Line: 104, Departure: 18:39:00, Arrival: 18:40:00\n",
      "most Milenijny -> Obornicka (Obwodnica), Line: 143, Departure: 18:41:00, Arrival: 18:45:00\n",
      "Obornicka (Obwodnica) -> Ostowa (Muzeum Militarne), Line: 143, Departure: 18:45:00, Arrival: 18:46:00\n",
      "Ostowa (Muzeum Militarne) -> Pełczyńska (Stacja kolejowa), Line: 143, Departure: 18:46:00, Arrival: 18:47:00\n",
      "Pełczyńska (Stacja kolejowa) -> Kominiarska, Line: 143, Departure: 18:47:00, Arrival: 18:48:00\n",
      "Kominiarska -> Lawendowa, Line: 108, Departure: 18:51:00, Arrival: 18:52:00\n",
      "Lawendowa -> Rzemieślnicza, Line: 108, Departure: 18:52:00, Arrival: 18:53:00\n",
      "\n",
      "Starting time: 2023-03-02 18:05:00\n",
      "Total journey time: 0:48:00\n"
     ]
    },
    {
     "name": "stderr",
     "output_type": "stream",
     "text": [
      "Minimized Criterion: Travel Time\n",
      "Time Required: 0.4867253303527832\n"
     ]
    }
   ],
   "source": [
    "start_stop = \"KSIĘŻE MAŁE\"\n",
    "goal = \"Rzemieślnicza\"\n",
    "criterion = \"t\"\n",
    "if criterion != 'p' and criterion != 't':\n",
    "    raise argparse.ArgumentTypeError(\"Optimization criterion should be either 't' or 'p'.\")\n",
    "\n",
    "start_time = \"18:05\"\n",
    "start_time = parse_time(start_time)\n",
    "\n",
    "minimized_criterion_value = \"Travel Time\" if criterion == 't' else \"Number of Transfers\"\n",
    "\n",
    "start = time.time()\n",
    "a_star_t_path, a_star_t_journey = a_star_time(graph, start_stop, goal, start_time)\n",
    "end = time.time()\n",
    "req_time = end - start\n",
    "\n",
    "\n",
    "print_path(a_star_t_path)\n",
    "\n",
    "print()\n",
    "print(f\"Starting time: {start_time}\")\n",
    "print(f\"Total journey time: {a_star_t_journey}\")\n",
    "print(f\"Minimized Criterion: {minimized_criterion_value}\", file=sys.stderr)\n",
    "print(f\"Time Required: {req_time}\", file=sys.stderr)"
   ]
  },
  {
   "cell_type": "code",
   "execution_count": 29,
   "metadata": {},
   "outputs": [
    {
     "name": "stdout",
     "output_type": "stream",
     "text": [
      "Psie Pole -> Zielna, Line: 911, Departure: 09:12:00, Arrival: 09:13:00\n",
      "Zielna -> C.H. Korona, Line: 911, Departure: 09:13:00, Arrival: 09:15:00\n",
      "C.H. Korona -> Brücknera, Line: 121, Departure: 09:15:00, Arrival: 09:17:00\n",
      "Brücknera -> Kwidzyńska, Line: 121, Departure: 09:17:00, Arrival: 09:19:00\n",
      "Kwidzyńska -> Zacisze, Line: 121, Departure: 09:19:00, Arrival: 09:20:00\n",
      "Zacisze -> Śniadeckich, Line: 121, Departure: 09:20:00, Arrival: 09:21:00\n",
      "Śniadeckich -> Kochanowskiego, Line: 121, Departure: 09:21:00, Arrival: 09:23:00\n",
      "Kochanowskiego -> PL. GRUNWALDZKI, Line: 911, Departure: 09:24:00, Arrival: 09:26:00\n",
      "PL. GRUNWALDZKI -> Kliniki - Politechnika Wrocławska, Line: 2, Departure: 09:26:00, Arrival: 09:28:00\n",
      "Kliniki - Politechnika Wrocławska -> Hala Stulecia, Line: 2, Departure: 09:28:00, Arrival: 09:30:00\n",
      "Hala Stulecia -> ZOO, Line: 2, Departure: 09:30:00, Arrival: 09:31:00\n",
      "ZOO -> Tramwajowa, Line: 2, Departure: 09:31:00, Arrival: 09:32:00\n",
      "Tramwajowa -> Chełmońskiego, Line: 2, Departure: 09:32:00, Arrival: 09:33:00\n",
      "Chełmońskiego -> Biegasa, Line: 143, Departure: 09:35:00, Arrival: 09:36:00\n",
      "Biegasa -> Międzyrzecka, Line: 143, Departure: 09:36:00, Arrival: 09:38:00\n",
      "Międzyrzecka -> Armii Krajowej, Line: 143, Departure: 09:38:00, Arrival: 09:40:00\n",
      "Armii Krajowej -> Park Wschodni, Line: 3, Departure: 09:44:00, Arrival: 09:45:00\n",
      "Park Wschodni -> Karwińska, Line: 3, Departure: 09:45:00, Arrival: 09:47:00\n",
      "\n",
      "Starting time: 2023-03-02 09:11:01\n",
      "Total journey time: 0:35:59\n"
     ]
    },
    {
     "name": "stderr",
     "output_type": "stream",
     "text": [
      "Minimized Criterion: Travel Time\n",
      "Time Required: 0.4818589687347412\n"
     ]
    }
   ],
   "source": [
    "start_stop = \"Psie Pole\"\n",
    "goal = \"Karwińska\"\n",
    "criterion = \"t\"\n",
    "if criterion != 'p' and criterion != 't':\n",
    "    raise argparse.ArgumentTypeError(\"Optimization criterion should be either 't' or 'p'.\")\n",
    "\n",
    "start_time = \"9:11:01\"\n",
    "start_time = parse_time(start_time)\n",
    "\n",
    "minimized_criterion_value = \"Travel Time\" if criterion == 't' else \"Number of Transfers\"\n",
    "\n",
    "start = time.time()\n",
    "a_star_t_path, a_star_t_journey = a_star_time(graph, start_stop, goal, start_time)\n",
    "end = time.time()\n",
    "req_time = end - start\n",
    "\n",
    "\n",
    "print_path(a_star_t_path)\n",
    "\n",
    "print()\n",
    "print(f\"Starting time: {start_time}\")\n",
    "print(f\"Total journey time: {a_star_t_journey}\")\n",
    "print(f\"Minimized Criterion: {minimized_criterion_value}\", file=sys.stderr)\n",
    "print(f\"Time Required: {req_time}\", file=sys.stderr)"
   ]
  },
  {
   "cell_type": "markdown",
   "metadata": {},
   "source": [
    "Here we can test it with our own input:"
   ]
  },
  {
   "cell_type": "code",
   "execution_count": null,
   "metadata": {},
   "outputs": [],
   "source": [
    "start_stop = input(\"Please provide the starting stop: \")\n",
    "goal = input(\"Please provide the ending stop: \")\n",
    "#criterion = input(f\"Optimization criterion:\\n\\tt (travel time)\\n\\tp (number of transfers)\")\n",
    "#if criterion != 'p' and criterion != 't':\n",
    "#    raise argparse.ArgumentTypeError(\"Optimization criterion should be either 't' or 'p'.\")\n",
    "\n",
    "start_time = input(\"Please provide time in form HH:MM or HH:MM:SS: \")\n",
    "start_time = parse_time(start_time)\n",
    "\n",
    "\n",
    "minimized_criterion_value = \"Travel Time\" if criterion == 't' else \"Number of Transfers\""
   ]
  },
  {
   "cell_type": "code",
   "execution_count": null,
   "metadata": {},
   "outputs": [],
   "source": [
    "a_star_t_path, a_star_t_journey = a_star_time(graph, start_stop, goal, start_time)"
   ]
  },
  {
   "cell_type": "code",
   "execution_count": null,
   "metadata": {},
   "outputs": [],
   "source": [
    "print_path(a_star_t_path)\n",
    "\n",
    "print()\n",
    "print(f\"Starting time: {start_time}\")\n",
    "print(f\"Total journey time: {dijkstra_journey}\")"
   ]
  },
  {
   "cell_type": "markdown",
   "metadata": {},
   "source": [
    "#### A* Search with Number of Transfers Optimization Criterion\n",
    "Here we are going to use heuristic that checks if there are common lines at the destination stop and the current one. If so, we return 0, as we may not need to change lines, and otherwise we choose the minimum number of transfers needed among number of lines leaving the current node and the end node."
   ]
  },
  {
   "cell_type": "code",
   "execution_count": 30,
   "metadata": {},
   "outputs": [],
   "source": [
    "def heuristic_p(graph, current_connection, goal):\n",
    "    current_lines = {connection.line for connection in graph.get_connections(current_connection.start_stop)}\n",
    "    end_lines = {connection.line for connection in graph.get_connections(goal)}\n",
    "        \n",
    "    common_lines = current_lines.intersection(end_lines)\n",
    "    if common_lines:\n",
    "        # if there are common lines, return 0 transfers\n",
    "        return 0\n",
    "    else:\n",
    "        # calculate the minimum number of transfers needed based on the number of lines at each stop\n",
    "        return min(len(current_lines), len(end_lines))"
   ]
  },
  {
   "cell_type": "code",
   "execution_count": 43,
   "metadata": {},
   "outputs": [],
   "source": [
    "def a_star_transfer(graph, start, goal, start_time):\n",
    "    first_line = choose_common_line(graph, start, goal)\n",
    "    frontier = PriorityQueue()\n",
    "    frontier.put((start, first_line), 0)\n",
    "    came_from = {}\n",
    "    cost_so_far = {start: 0}\n",
    "    path = []\n",
    "    \n",
    "    journey_start_time = start_time\n",
    "    \n",
    "    while not frontier.empty():\n",
    "        current_stop, current_line = frontier.get()\n",
    "        \n",
    "        # modification: early exit\n",
    "        if current_stop == goal:\n",
    "            break\n",
    "        \n",
    "        for connection in graph.get_connections(current_stop):\n",
    "            next_stop = connection.end_stop\n",
    "\n",
    "            departure_time = connection.departure_time\n",
    "            line = connection.line\n",
    "            \n",
    "            if departure_time >= start_time:\n",
    "                transfer_count = 1 if (current_line != line) else 0\n",
    "                new_cost = cost_so_far[current_stop] + transfer_count\n",
    "                if next_stop not in cost_so_far or new_cost < cost_so_far[next_stop]:\n",
    "                    cost_so_far[next_stop] = new_cost\n",
    "                    priority = new_cost + heuristic_p(graph, connection, goal)\n",
    "                    frontier.put((next_stop, line), priority)\n",
    "                    came_from[next_stop] = (current_stop, connection)\n",
    "            if current_stop in came_from:\n",
    "                start_time = (came_from[current_stop][1]).arrival_time \n",
    "        \n",
    "                    \n",
    "    current_stop = goal\n",
    "    if current_stop not in came_from:\n",
    "        return []\n",
    "    while current_stop != start:\n",
    "        path.append(came_from[current_stop][1])\n",
    "        current_stop = came_from[current_stop][0]\n",
    "    \n",
    "    path.reverse()\n",
    "    \n",
    "    journey_end_time = path[-1].arrival_time\n",
    "    total_journey_time = journey_end_time - journey_start_time\n",
    "    \n",
    "    return path, total_journey_time"
   ]
  },
  {
   "cell_type": "markdown",
   "metadata": {},
   "source": [
    "Obviously, now let's check some sample data to see how (if) it works."
   ]
  },
  {
   "cell_type": "code",
   "execution_count": 44,
   "metadata": {},
   "outputs": [
    {
     "name": "stdout",
     "output_type": "stream",
     "text": [
      "GALERIA DOMINIKAŃSKA -> Hala Targowa, Line: 244, Departure: 00:23:00, Arrival: 00:24:00\n",
      "Hala Targowa -> Dubois, Line: 244, Departure: 00:24:00, Arrival: 00:26:00\n",
      "Dubois -> pl. Bema, Line: 244, Departure: 00:26:00, Arrival: 00:28:00\n",
      "pl. Bema -> Na Szańcach, Line: 244, Departure: 00:28:00, Arrival: 00:28:00\n",
      "Na Szańcach -> Jedności Narodowej, Line: 244, Departure: 00:28:00, Arrival: 00:29:00\n",
      "Jedności Narodowej -> Nowowiejska, Line: 244, Departure: 00:29:00, Arrival: 00:31:00\n",
      "Nowowiejska -> Daszyńskiego, Line: 244, Departure: 00:31:00, Arrival: 00:32:00\n",
      "Daszyńskiego -> Słonimskiego, Line: 244, Departure: 00:32:00, Arrival: 00:33:00\n",
      "Słonimskiego -> Zakładowa, Line: 244, Departure: 00:33:00, Arrival: 00:34:00\n",
      "Zakładowa -> Broniewskiego, Line: 244, Departure: 00:34:00, Arrival: 00:36:00\n",
      "Broniewskiego -> Bałtycka, Line: 244, Departure: 00:36:00, Arrival: 00:38:00\n",
      "Bałtycka -> Bezpieczna, Line: 244, Departure: 00:38:00, Arrival: 00:39:00\n",
      "Bezpieczna -> Paprotna, Line: 244, Departure: 00:39:00, Arrival: 00:40:00\n",
      "Paprotna -> Irysowa, Line: 244, Departure: 00:40:00, Arrival: 00:41:00\n",
      "Irysowa -> Obornicka (Obwodnica), Line: 244, Departure: 00:41:00, Arrival: 00:42:00\n",
      "Obornicka (Obwodnica) -> Ostowa (Muzeum Militarne), Line: 244, Departure: 00:42:00, Arrival: 00:43:00\n",
      "Ostowa (Muzeum Militarne) -> Pełczyńska (Stacja kolejowa), Line: 244, Departure: 00:43:00, Arrival: 00:44:00\n",
      "Pełczyńska (Stacja kolejowa) -> Kominiarska, Line: 244, Departure: 00:44:00, Arrival: 00:45:00\n",
      "\n",
      "Starting time: 2023-03-03 00:00:00\n",
      "Total journey time: 0:45:00\n"
     ]
    },
    {
     "name": "stderr",
     "output_type": "stream",
     "text": [
      "Minimized Criterion: Number of Transfers\n",
      "Time Required: 0.1385188102722168\n"
     ]
    }
   ],
   "source": [
    "start_stop = \"GALERIA DOMINIKAŃSKA\"\n",
    "goal = \"Kominiarska\"\n",
    "#criterion = \"p\"\n",
    "#if criterion != 'p' and criterion != 't':\n",
    "#    raise argparse.ArgumentTypeError(\"Optimization criterion should be either 't' or 'p'.\")\n",
    "\n",
    "start_time = \"24:00\"\n",
    "start_time = parse_time(start_time)\n",
    "\n",
    "minimized_criterion_value = \"Travel Time\" if criterion == 't' else \"Number of Transfers\"\n",
    "\n",
    "start = time.time()\n",
    "a_star_p_path, a_star_p_journey = a_star_transfer(graph, start_stop, goal, start_time)\n",
    "end = time.time()\n",
    "req_time = end - start\n",
    "\n",
    "\n",
    "print_path(a_star_p_path)\n",
    "\n",
    "print()\n",
    "print(f\"Starting time: {start_time}\")\n",
    "print(f\"Total journey time: {a_star_p_journey}\")\n",
    "print(f\"Minimized Criterion: {minimized_criterion_value}\", file=sys.stderr)\n",
    "print(f\"Time Required: {req_time}\", file=sys.stderr)"
   ]
  },
  {
   "cell_type": "code",
   "execution_count": 46,
   "metadata": {},
   "outputs": [
    {
     "name": "stdout",
     "output_type": "stream",
     "text": [
      "Psie Pole -> Zielna, Line: 128 , Departure: 23:12:00, Arrival: 23:12:00\n",
      "Zielna -> C.H. Korona, Line: 128 , Departure: 23:12:00, Arrival: 23:14:00\n",
      "C.H. Korona -> Brücknera, Line: 128 , Departure: 23:15:00, Arrival: 23:16:00\n",
      "Brücknera -> Grudziądzka, Line: 128 , Departure: 23:16:00, Arrival: 23:17:00\n",
      "Grudziądzka -> Kromera (Czajkowskiego), Line: 128 , Departure: 23:17:00, Arrival: 23:18:00\n",
      "Kromera (Czajkowskiego) -> KROMERA, Line: 128 , Departure: 23:18:00, Arrival: 23:19:00\n",
      "KROMERA -> Berenta, Line: 128 , Departure: 23:19:00, Arrival: 23:20:00\n",
      "Berenta -> Kasprowicza, Line: 128 , Departure: 23:20:00, Arrival: 23:21:00\n",
      "Kasprowicza -> Syrokomli, Line: 128 , Departure: 23:21:00, Arrival: 23:22:00\n",
      "Syrokomli -> Pola, Line: 128 , Departure: 23:22:00, Arrival: 23:23:00\n",
      "Pola -> Broniewskiego, Line: 128 , Departure: 23:23:00, Arrival: 23:24:00\n",
      "Broniewskiego -> Kamieńskiego, Line: 128 , Departure: 23:24:00, Arrival: 23:25:00\n",
      "\n",
      "Starting time: 2023-03-02 22:22:22\n",
      "Total journey time: 1:02:38\n"
     ]
    },
    {
     "name": "stderr",
     "output_type": "stream",
     "text": [
      "Minimized Criterion: Number of Transfers\n",
      "Time Required: 0.10631179809570312\n"
     ]
    }
   ],
   "source": [
    "start_stop = \"Psie Pole\"\n",
    "goal = \"Kamieńskiego\"\n",
    "criterion = \"p\"\n",
    "if criterion != 'p' and criterion != 't':\n",
    "    raise argparse.ArgumentTypeError(\"Optimization criterion should be either 't' or 'p'.\")\n",
    "\n",
    "start_time = \"22:22:22\"\n",
    "start_time = parse_time(start_time)\n",
    "\n",
    "minimized_criterion_value = \"Travel Time\" if criterion == 't' else \"Number of Transfers\"\n",
    "\n",
    "start = time.time()\n",
    "a_star_p_path, a_star_p_journey = a_star_transfer(graph, start_stop, goal, start_time)\n",
    "end = time.time()\n",
    "req_time = end - start\n",
    "\n",
    "\n",
    "print_path(a_star_p_path)\n",
    "\n",
    "print()\n",
    "print(f\"Starting time: {start_time}\")\n",
    "print(f\"Total journey time: {a_star_p_journey}\")\n",
    "print(f\"Minimized Criterion: {minimized_criterion_value}\", file=sys.stderr)\n",
    "print(f\"Time Required: {req_time}\", file=sys.stderr)"
   ]
  },
  {
   "cell_type": "code",
   "execution_count": 48,
   "metadata": {},
   "outputs": [
    {
     "name": "stdout",
     "output_type": "stream",
     "text": [
      "Reja -> Katedra, Line: 253, Departure: 02:41:00, Arrival: 02:42:00\n",
      "Katedra -> Urząd Wojewódzki (Muzeum Narodowe), Line: 253, Departure: 02:42:00, Arrival: 02:43:00\n",
      "Urząd Wojewódzki (Muzeum Narodowe) -> pl. Wróblewskiego, Line: 240, Departure: 02:56:00, Arrival: 02:58:00\n",
      "pl. Wróblewskiego -> pl. Zgody (Muzeum Etnograficzne), Line: 243, Departure: 03:10:00, Arrival: 03:11:00\n",
      "pl. Zgody (Muzeum Etnograficzne) -> Na Niskich Łąkach, Line: 243, Departure: 03:11:00, Arrival: 03:13:00\n",
      "Na Niskich Łąkach -> Krakowska, Line: 243, Departure: 03:13:00, Arrival: 03:14:00\n",
      "\n",
      "Starting time: 2023-03-03 02:30:00\n",
      "Total journey time: 0:44:00\n"
     ]
    },
    {
     "name": "stderr",
     "output_type": "stream",
     "text": [
      "Minimized Criterion: Number of Transfers\n",
      "Time Required: 0.5571398735046387\n"
     ]
    }
   ],
   "source": [
    "start_stop = \"Reja\"\n",
    "goal = \"Krakowska\"\n",
    "criterion = \"p\"\n",
    "if criterion != 'p' and criterion != 't':\n",
    "    raise argparse.ArgumentTypeError(\"Optimization criterion should be either 't' or 'p'.\")\n",
    "\n",
    "start_time = \"26:30\"\n",
    "start_time = parse_time(start_time)\n",
    "\n",
    "minimized_criterion_value = \"Travel Time\" if criterion == 't' else \"Number of Transfers\"\n",
    "\n",
    "start = time.time()\n",
    "a_star_p_path, a_star_p_journey = a_star_transfer(graph, start_stop, goal, start_time)\n",
    "end = time.time()\n",
    "req_time = end - start\n",
    "\n",
    "\n",
    "print_path(a_star_p_path)\n",
    "\n",
    "print()\n",
    "print(f\"Starting time: {start_time}\")\n",
    "print(f\"Total journey time: {a_star_p_journey}\")\n",
    "print(f\"Minimized Criterion: {minimized_criterion_value}\", file=sys.stderr)\n",
    "print(f\"Time Required: {req_time}\", file=sys.stderr)"
   ]
  },
  {
   "cell_type": "markdown",
   "metadata": {},
   "source": [
    "Here we can it with our own input:"
   ]
  },
  {
   "cell_type": "code",
   "execution_count": null,
   "metadata": {},
   "outputs": [],
   "source": [
    "start_stop = input(\"Please provide the starting stop: \")\n",
    "goal = input(\"Please provide the ending stop: \")\n",
    "#criterion = input(f\"Optimization criterion:\\n\\tt (travel time)\\n\\tp (number of transfers)\")\n",
    "#if criterion != 'p' and criterion != 't':\n",
    "#    raise argparse.ArgumentTypeError(\"Optimization criterion should be either 't' or 'p'.\")\n",
    "\n",
    "start_time = input(\"Please provide time in form HH:MM or HH:MM:SS: \")\n",
    "start_time = parse_time(start_time)\n",
    "\n",
    "\n",
    "minimized_criterion_value = \"Travel Time\" if criterion == 't' else \"Number of Transfers\""
   ]
  },
  {
   "cell_type": "code",
   "execution_count": null,
   "metadata": {},
   "outputs": [],
   "source": [
    "a_star_p_path, a_star_p_journey = a_star_transfer(graph, start_stop, goal, start_time)"
   ]
  },
  {
   "cell_type": "code",
   "execution_count": null,
   "metadata": {},
   "outputs": [],
   "source": [
    "print_path(a_star_p_path)\n",
    "\n",
    "print()\n",
    "print(f\"Starting time: {start_time}\")\n",
    "print(f\"Total journey time: {a_star_p_journey}\")"
   ]
  },
  {
   "cell_type": "markdown",
   "metadata": {},
   "source": [
    "### General testing the algorithms\n",
    "So now, we can provide our input with criterion of optimization (`t` for time optimization, `p` for number of transfers optimization). If we choose `t`, then the algorithm will choose the one with shorter journey time, and if both are the same, the one with shorter time of processing, and if both are the same, the A* search algorithm is chosen. "
   ]
  },
  {
   "cell_type": "code",
   "execution_count": null,
   "metadata": {},
   "outputs": [],
   "source": [
    "start_stop = input(\"Please provide the starting stop: \")\n",
    "goal = input(\"Please provide the ending stop: \")\n",
    "criterion = input(f\"Optimization criterion:\\n\\tt (travel time)\\n\\tp (number of transfers)\")\n",
    "if criterion != 'p' and criterion != 't':\n",
    "    raise argparse.ArgumentTypeError(\"Optimization criterion should be either 't' or 'p'.\")\n",
    "\n",
    "start_time = input(\"Please provide time in form HH:MM or HH:MM:SS: \")\n",
    "start_time = parse_time(start_time)\n",
    "\n",
    "\n",
    "minimized_criterion_value = \"Travel Time\" if criterion == 't' else \"Number of Transfers\""
   ]
  },
  {
   "cell_type": "code",
   "execution_count": null,
   "metadata": {},
   "outputs": [],
   "source": [
    "req_time = 0\n",
    "journey_time = 0\n",
    "if criterion == 't':\n",
    "        start_d = time.time()\n",
    "        dijkstra_path, dijkstra_journey = dijkstra(graph, start_stop, goal, start_time)\n",
    "        end_d = time.time()\n",
    "        dijkstra_time = end_d - start_d\n",
    "        \n",
    "        start_a = time.time()\n",
    "        a_star_time_path, a_star_time_journey = a_star_time(graph, start_stop, goal, start_time)\n",
    "        end_a = time.time()\n",
    "        a_star_time_time = end_a - start_a\n",
    "        \n",
    "        if dijkstra_journey < a_star_time_journey:\n",
    "            algorithm = \"Dijkstra\"\n",
    "            req_time = dijkstra_time\n",
    "            journey_time = dijkstra_journey\n",
    "            print_path(dijkstra_path)\n",
    "        elif dijkstra_journey == a_star_time_journey:\n",
    "            if dijkstra_time < a_star_time_time:\n",
    "                algorithm = \"Dijkstra\"\n",
    "                req_time = dijkstra_time\n",
    "                journey_time = dijkstra_journey\n",
    "                print_path(dijkstra_path)\n",
    "            else:\n",
    "                algorithm = \"A*\"\n",
    "                req_time = a_star_time_time\n",
    "                journey_time = a_star_time_journey\n",
    "                print_path(a_star_time_path)\n",
    "        else:\n",
    "            algorithm = \"A*\"\n",
    "            req_time = a_star_time_time\n",
    "            journey_time = a_star_time_journey\n",
    "            print_path(a_star_time_path)\n",
    "else:\n",
    "        algorithm = \"A*\"\n",
    "        start = time.time()\n",
    "        a_star_transfer_path, a_star_transfer_journey = a_star_transfer(graph, start_stop, goal, start_time)\n",
    "        end = time.time()\n",
    "        req_time = end - start\n",
    "        journey_time = a_star_transfer_journey\n",
    "        print_path(a_star_transfer_path)\n",
    "\n",
    "# Printing minimized criterion and time required for calculation\n",
    "print()\n",
    "print(f\"Starting time: {start_time}\")\n",
    "print(f\"Total journey time: {journey_time}\")\n",
    "print(f\"Used algorithm: {algorithm}\")\n",
    "print(f\"Minimized Criterion: {minimized_criterion_value}\", file=sys.stderr)\n",
    "print(f\"Time Required: {req_time}\", file=sys.stderr)"
   ]
  },
  {
   "cell_type": "markdown",
   "metadata": {},
   "source": [
    "## Task 2 - Tabu Search\n",
    "The application should accept input in form of 4 variables:\n",
    "- the starting stop A (marked as `start_stop`)\n",
    "- list of stops to visit separated by semicolon L (marked as `stops_to_visit`)\n",
    "- optimization criterion (value `t` denotes travel time minimization, value `p` means minimization of the number of transfers)\n",
    "- starting time."
   ]
  },
  {
   "cell_type": "markdown",
   "metadata": {},
   "source": [
    "### Tabu Search without bounding of the size T"
   ]
  },
  {
   "cell_type": "markdown",
   "metadata": {},
   "source": [
    "So we are going to use the following objective function:"
   ]
  },
  {
   "cell_type": "code",
   "execution_count": 6,
   "metadata": {},
   "outputs": [],
   "source": [
    "def objective_function(path, start_time, criterion):\n",
    "    if criterion == 't':\n",
    "        total_time = path[-1].arrival_time - start_time\n",
    "        return total_time.total_seconds()\n",
    "    elif criterion == 'p':  \n",
    "        transfers = len(set(connection.line for connection in path)) - 1\n",
    "        return transfers"
   ]
  },
  {
   "cell_type": "markdown",
   "metadata": {},
   "source": [
    "The algorithm:"
   ]
  },
  {
   "cell_type": "code",
   "execution_count": 7,
   "metadata": {},
   "outputs": [],
   "source": [
    "def tabu_search(graph, start_stop, stops_to_visit, criterion, start_time):\n",
    "    current_stop = start_stop\n",
    "    current_time = start_time\n",
    "    visited_stops = [current_stop]\n",
    "    current_path = []\n",
    "    tabu_list = []\n",
    "\n",
    "    while stops_to_visit:\n",
    "        neighbors = graph.get_connections(current_stop)\n",
    "        best_neighbor = None\n",
    "        best_cost = float('inf')\n",
    "\n",
    "        for neighbor in neighbors:\n",
    "            if neighbor.end_stop in visited_stops or (current_stop, neighbor.end_stop) in tabu_list:\n",
    "                continue\n",
    "\n",
    "            if neighbor.end_stop in stops_to_visit:\n",
    "                if current_time <= neighbor.departure_time:\n",
    "                    new_path = current_path + [neighbor]\n",
    "                    cost = objective_function(new_path, current_time, criterion)\n",
    "                    if cost < best_cost:\n",
    "                        best_cost = cost\n",
    "                        best_neighbor = neighbor\n",
    "\n",
    "        if best_neighbor:\n",
    "            visited_stops.append(best_neighbor.end_stop)\n",
    "            current_path.append(best_neighbor)\n",
    "            current_stop = best_neighbor.end_stop\n",
    "            current_time = best_neighbor.arrival_time\n",
    "            stops_to_visit.remove(current_stop)\n",
    "            tabu_list.append((current_stop, current_path[-1].end_stop))\n",
    "            if len(tabu_list) > len(graph.graph):\n",
    "                tabu_list.pop(0)\n",
    "\n",
    "    total_journey_time = current_time - start_time\n",
    "    return current_path, total_journey_time"
   ]
  },
  {
   "cell_type": "markdown",
   "metadata": {},
   "source": [
    "Now let's test it with some sample data."
   ]
  },
  {
   "cell_type": "code",
   "execution_count": 8,
   "metadata": {},
   "outputs": [
    {
     "name": "stdout",
     "output_type": "stream",
     "text": [
      "Kasprowicza -> Syrokomli, Line: 105, Departure: 12:07:00, Arrival: 12:08:00\n",
      "Syrokomli -> Pola, Line: 105, Departure: 12:08:00, Arrival: 12:09:00\n",
      "Pola -> Broniewskiego, Line: 105, Departure: 12:09:00, Arrival: 12:11:00\n",
      "Broniewskiego -> Bałtycka, Line: 105, Departure: 12:11:00, Arrival: 12:13:00\n",
      "\n",
      "Starting time: 2023-03-02 12:07:00\n",
      "Total journey time: 0:06:00\n"
     ]
    },
    {
     "name": "stderr",
     "output_type": "stream",
     "text": [
      "Minimized Criterion: Travel Time\n",
      "Time Required: 0.009004354476928711\n"
     ]
    }
   ],
   "source": [
    "start_stop = \"Kasprowicza\"\n",
    "stops_to_visit = \"Syrokomli;Pola;Broniewskiego;Bałtycka\"\n",
    "\n",
    "try:\n",
    "    stops_to_visit = stops_to_visit.split(';')\n",
    "except AttributeError:\n",
    "    print(\"Error: Stops to visit must be provided as a semicolon-separated list.\", file=sys.stderr)\n",
    "    sys.exit(1)\n",
    "except Exception as e:\n",
    "    print(f\"An unexpected error occurred: {str(e)}\", file=sys.stderr)\n",
    "    sys.exit(1)\n",
    "    \n",
    "criterion = \"t\"\n",
    "if criterion != 'p' and criterion != 't':\n",
    "    raise argparse.ArgumentTypeError(\"Optimization criterion should be either 't' or 'p'.\")\n",
    "\n",
    "start_time = \"12:07:00\"\n",
    "start_time = parse_time(start_time)\n",
    "\n",
    "minimized_criterion_value = \"Travel Time\" if criterion == 't' else \"Number of Transfers\"\n",
    "\n",
    "start = time.time()\n",
    "tabu_path, tabu_time = tabu_search(graph, start_stop, stops_to_visit, criterion, start_time)\n",
    "end = time.time()\n",
    "\n",
    "req_time = end - start\n",
    "\n",
    "\n",
    "print_path(tabu_path)\n",
    "\n",
    "print()\n",
    "print(f\"Starting time: {start_time}\")\n",
    "print(f\"Total journey time: {tabu_time}\")\n",
    "print(f\"Minimized Criterion: {minimized_criterion_value}\", file=sys.stderr)\n",
    "print(f\"Time Required: {req_time}\", file=sys.stderr)"
   ]
  },
  {
   "cell_type": "code",
   "execution_count": 38,
   "metadata": {},
   "outputs": [
    {
     "name": "stdout",
     "output_type": "stream",
     "text": [
      "Bałtycka -> Broniewskiego, Line: A, Departure: 20:57:00, Arrival: 20:59:00\n",
      "Broniewskiego -> Pola, Line: A, Departure: 20:59:00, Arrival: 21:00:00\n",
      "Pola -> Syrokomli, Line: A, Departure: 21:00:00, Arrival: 21:01:00\n",
      "Syrokomli -> Kasprowicza, Line: A, Departure: 21:01:00, Arrival: 21:02:00\n",
      "\n",
      "Starting time: 2023-03-02 20:30:00\n",
      "Total journey time: 0:32:00\n"
     ]
    },
    {
     "name": "stderr",
     "output_type": "stream",
     "text": [
      "Minimized Criterion: Number of Transfers\n",
      "Time Required: 0.006506204605102539\n"
     ]
    }
   ],
   "source": [
    "start_stop = \"Bałtycka\"\n",
    "stops_to_visit = \"Pola;Kasprowicza;Broniewskiego;Syrokomli\"\n",
    "\n",
    "try:\n",
    "    stops_to_visit = stops_to_visit.split(';')\n",
    "except AttributeError:\n",
    "    print(\"Error: Stops to visit must be provided as a semicolon-separated list.\", file=sys.stderr)\n",
    "    sys.exit(1)\n",
    "except Exception as e:\n",
    "    print(f\"An unexpected error occurred: {str(e)}\", file=sys.stderr)\n",
    "    sys.exit(1)\n",
    "    \n",
    "criterion = \"p\"\n",
    "if criterion != 'p' and criterion != 't':\n",
    "    raise argparse.ArgumentTypeError(\"Optimization criterion should be either 't' or 'p'.\")\n",
    "\n",
    "start_time = \"20:30\"\n",
    "start_time = parse_time(start_time)\n",
    "\n",
    "minimized_criterion_value = \"Travel Time\" if criterion == 't' else \"Number of Transfers\"\n",
    "\n",
    "start = time.time()\n",
    "tabu_path, tabu_time = tabu_search(graph, start_stop, stops_to_visit, criterion, start_time)\n",
    "end = time.time()\n",
    "\n",
    "req_time = end - start\n",
    "\n",
    "\n",
    "print_path(tabu_path)\n",
    "\n",
    "print()\n",
    "print(f\"Starting time: {start_time}\")\n",
    "print(f\"Total journey time: {tabu_time}\")\n",
    "print(f\"Minimized Criterion: {minimized_criterion_value}\", file=sys.stderr)\n",
    "print(f\"Time Required: {req_time}\", file=sys.stderr)"
   ]
  },
  {
   "cell_type": "markdown",
   "metadata": {},
   "source": [
    "### Tabu Search with bouding of the size T"
   ]
  },
  {
   "cell_type": "markdown",
   "metadata": {},
   "source": [
    "Now we can introduce a tiny modification in our code in order to minimize the cost function—we will use bounding based on the length of `stops_to_visit`."
   ]
  },
  {
   "cell_type": "code",
   "execution_count": 9,
   "metadata": {},
   "outputs": [],
   "source": [
    "def tabu_search_bounding(graph, start_stop, stops_to_visit, criterion, start_time):\n",
    "    current_stop = start_stop\n",
    "    current_time = start_time\n",
    "    visited_stops = [current_stop]\n",
    "    current_path = []\n",
    "    tabu_list_size = len(stops_to_visit) # bounding\n",
    "    tabu_list = []\n",
    "\n",
    "    while stops_to_visit:\n",
    "        neighbors = graph.get_connections(current_stop)\n",
    "        best_neighbor = None\n",
    "        best_cost = float('inf')\n",
    "\n",
    "        for neighbor in neighbors:\n",
    "            if neighbor.end_stop in visited_stops or (current_stop, neighbor.end_stop) in tabu_list:\n",
    "                continue\n",
    "\n",
    "            if neighbor.end_stop in stops_to_visit:\n",
    "                if current_time <= neighbor.departure_time:\n",
    "                    new_path = current_path + [neighbor]\n",
    "                    cost = objective_function(new_path, current_time, criterion)\n",
    "                    if cost < best_cost:\n",
    "                        best_cost = cost\n",
    "                        best_neighbor = neighbor\n",
    "\n",
    "        if best_neighbor:\n",
    "            visited_stops.append(best_neighbor.end_stop)\n",
    "            current_path.append(best_neighbor)\n",
    "            current_stop = best_neighbor.end_stop\n",
    "            current_time = best_neighbor.arrival_time\n",
    "            stops_to_visit.remove(current_stop)\n",
    "            tabu_list.append((current_stop, current_path[-1].end_stop))\n",
    "            if len(tabu_list) > tabu_list_size:\n",
    "                tabu_list.pop(0)\n",
    "\n",
    "    total_journey_time = current_time - start_time\n",
    "    \n",
    "    return current_path, total_journey_time"
   ]
  },
  {
   "cell_type": "markdown",
   "metadata": {},
   "source": [
    "Let's test it:"
   ]
  },
  {
   "cell_type": "code",
   "execution_count": 11,
   "metadata": {},
   "outputs": [
    {
     "name": "stdout",
     "output_type": "stream",
     "text": [
      "Pereca -> Grabiszyńska, Line: 11, Departure: 12:07:00, Arrival: 12:08:00\n",
      "Grabiszyńska -> Kolejowa, Line: 11, Departure: 12:08:00, Arrival: 12:09:00\n",
      "Kolejowa -> pl. Legionów, Line: 11, Departure: 12:09:00, Arrival: 12:11:00\n",
      "pl. Legionów -> Arkady (Capitol), Line: 21, Departure: 12:11:00, Arrival: 12:13:00\n",
      "Arkady (Capitol) -> DWORZEC GŁÓWNY, Line: 23, Departure: 12:16:00, Arrival: 12:19:00\n",
      "DWORZEC GŁÓWNY -> Pułaskiego, Line: 22, Departure: 12:22:00, Arrival: 12:24:00\n",
      "Pułaskiego -> Kościuszki, Line: 4, Departure: 12:28:00, Arrival: 12:30:00\n",
      "\n",
      "Starting time: 2023-03-02 12:07:00\n",
      "Total journey time: 0:23:00\n"
     ]
    },
    {
     "name": "stderr",
     "output_type": "stream",
     "text": [
      "Minimized Criterion: Travel Time\n",
      "Time Required: 0.02151799201965332\n"
     ]
    }
   ],
   "source": [
    "start_stop = \"Pereca\"\n",
    "stops_to_visit = \"Pułaskiego;Kolejowa;Grabiszyńska;pl. Legionów;Kościuszki;Arkady (Capitol);DWORZEC GŁÓWNY\"\n",
    "\n",
    "try:\n",
    "    stops_to_visit = stops_to_visit.split(';')\n",
    "except AttributeError:\n",
    "    print(\"Error: Stops to visit must be provided as a semicolon-separated list.\", file=sys.stderr)\n",
    "    sys.exit(1)\n",
    "except Exception as e:\n",
    "    print(f\"An unexpected error occurred: {str(e)}\", file=sys.stderr)\n",
    "    sys.exit(1)\n",
    "    \n",
    "criterion = \"t\"\n",
    "if criterion != 'p' and criterion != 't':\n",
    "    raise argparse.ArgumentTypeError(\"Optimization criterion should be either 't' or 'p'.\")\n",
    "\n",
    "start_time = \"12:07:00\"\n",
    "start_time = parse_time(start_time)\n",
    "\n",
    "minimized_criterion_value = \"Travel Time\" if criterion == 't' else \"Number of Transfers\"\n",
    "\n",
    "start = time.time()\n",
    "tabu_path, tabu_time = tabu_search_bounding(graph, start_stop, stops_to_visit, criterion, start_time)\n",
    "end = time.time()\n",
    "\n",
    "req_time = end - start\n",
    "\n",
    "\n",
    "print_path(tabu_path)\n",
    "\n",
    "print()\n",
    "print(f\"Starting time: {start_time}\")\n",
    "print(f\"Total journey time: {tabu_time}\")\n",
    "print(f\"Minimized Criterion: {minimized_criterion_value}\", file=sys.stderr)\n",
    "print(f\"Time Required: {req_time}\", file=sys.stderr)"
   ]
  },
  {
   "cell_type": "code",
   "execution_count": 15,
   "metadata": {},
   "outputs": [
    {
     "name": "stdout",
     "output_type": "stream",
     "text": [
      "Bałtycka -> Broniewskiego, Line: A, Departure: 20:57:00, Arrival: 20:59:00\n",
      "Broniewskiego -> Pola, Line: A, Departure: 20:59:00, Arrival: 21:00:00\n",
      "Pola -> Syrokomli, Line: A, Departure: 21:00:00, Arrival: 21:01:00\n",
      "Syrokomli -> Kasprowicza, Line: A, Departure: 21:01:00, Arrival: 21:02:00\n",
      "\n",
      "Starting time: 2023-03-02 20:30:00\n",
      "Total journey time: 0:32:00\n"
     ]
    },
    {
     "name": "stderr",
     "output_type": "stream",
     "text": [
      "Minimized Criterion: Number of Transfers\n",
      "Time Required: 0.008001327514648438\n"
     ]
    }
   ],
   "source": [
    "start_stop = \"Bałtycka\"\n",
    "stops_to_visit = \"Pola;Kasprowicza;Broniewskiego;Syrokomli\"\n",
    "\n",
    "try:\n",
    "    stops_to_visit = stops_to_visit.split(';')\n",
    "except AttributeError:\n",
    "    print(\"Error: Stops to visit must be provided as a semicolon-separated list.\", file=sys.stderr)\n",
    "    sys.exit(1)\n",
    "except Exception as e:\n",
    "    print(f\"An unexpected error occurred: {str(e)}\", file=sys.stderr)\n",
    "    sys.exit(1)\n",
    "    \n",
    "criterion = \"p\"\n",
    "if criterion != 'p' and criterion != 't':\n",
    "    raise argparse.ArgumentTypeError(\"Optimization criterion should be either 't' or 'p'.\")\n",
    "\n",
    "start_time = \"20:30\"\n",
    "start_time = parse_time(start_time)\n",
    "\n",
    "minimized_criterion_value = \"Travel Time\" if criterion == 't' else \"Number of Transfers\"\n",
    "\n",
    "start = time.time()\n",
    "tabu_path, tabu_time = tabu_search_bounding(graph, start_stop, stops_to_visit, criterion, start_time)\n",
    "end = time.time()\n",
    "\n",
    "req_time = end - start\n",
    "\n",
    "\n",
    "print_path(tabu_path)\n",
    "\n",
    "print()\n",
    "print(f\"Starting time: {start_time}\")\n",
    "print(f\"Total journey time: {tabu_time}\")\n",
    "print(f\"Minimized Criterion: {minimized_criterion_value}\", file=sys.stderr)\n",
    "print(f\"Time Required: {req_time}\", file=sys.stderr)"
   ]
  },
  {
   "cell_type": "markdown",
   "metadata": {},
   "source": [
    "### Aspiration criterion\n",
    "Now another modification—let's add Aspiration criterion (in order to minimize the cost function)."
   ]
  },
  {
   "cell_type": "code",
   "execution_count": 16,
   "metadata": {},
   "outputs": [],
   "source": [
    "def calculate_aspiration_criterion(cost, history_count, epsilon, k):\n",
    "    return cost + epsilon * (k - history_count)"
   ]
  },
  {
   "cell_type": "code",
   "execution_count": 18,
   "metadata": {},
   "outputs": [],
   "source": [
    "def tabu_search_aspiration(graph, start_stop, stops_to_visit, criterion, start_time, epsilon, k):\n",
    "    current_stop = start_stop\n",
    "    current_time = start_time\n",
    "    visited_stops = [current_stop]\n",
    "    current_path = []\n",
    "    tabu_list_size = len(stops_to_visit)\n",
    "    tabu_list = []\n",
    "    aspiration_history = [0] * k\n",
    "    best_cost = float('inf')\n",
    "    best_solution = None\n",
    "\n",
    "    while stops_to_visit:\n",
    "        neighbors = graph.get_connections(current_stop)\n",
    "        best_neighbor = None\n",
    "        best_neighbor_cost = float('inf')\n",
    "\n",
    "        for neighbor in neighbors:\n",
    "            if neighbor.end_stop in visited_stops or (current_stop, neighbor.end_stop) in tabu_list:\n",
    "                continue\n",
    "\n",
    "            if neighbor.end_stop in stops_to_visit:\n",
    "                if current_time <= neighbor.departure_time:\n",
    "                    new_path = current_path + [neighbor]\n",
    "                    cost = objective_function(new_path, current_time, criterion)\n",
    "                    \n",
    "                    asp_index = stops_to_visit.index(neighbor.end_stop)\n",
    "                    asp_criterion = calculate_aspiration_criterion(cost, aspiration_history[asp_index], epsilon, k)\n",
    "                    \n",
    "                    if cost < best_neighbor_cost or cost < asp_criterion:\n",
    "                        best_neighbor_cost = cost\n",
    "                        best_neighbor = neighbor\n",
    "\n",
    "        if best_neighbor:\n",
    "            if current_stop in stops_to_visit:\n",
    "                asp_index = stops_to_visit.index(current_stop)\n",
    "                aspiration_history[asp_index] += 1\n",
    "\n",
    "            visited_stops.append(best_neighbor.end_stop)\n",
    "            current_path.append(best_neighbor)\n",
    "            current_stop = best_neighbor.end_stop\n",
    "            current_time = best_neighbor.arrival_time\n",
    "            stops_to_visit.remove(current_stop)\n",
    "            tabu_list.append((current_stop, current_path[-1].end_stop))\n",
    "            if len(tabu_list) > tabu_list_size:\n",
    "                tabu_list.pop(0)\n",
    "            \n",
    "            # checking aspiration criterion\n",
    "            if best_neighbor_cost < best_cost or best_neighbor_cost < asp_criterion:\n",
    "                best_solution = current_path[:]\n",
    "                best_cost = best_neighbor_cost\n",
    "\n",
    "    total_journey_time = current_time - start_time\n",
    "    \n",
    "    return best_solution, total_journey_time"
   ]
  },
  {
   "cell_type": "markdown",
   "metadata": {},
   "source": [
    "Let's test it with some sample data."
   ]
  },
  {
   "cell_type": "code",
   "execution_count": 22,
   "metadata": {},
   "outputs": [
    {
     "name": "stdout",
     "output_type": "stream",
     "text": [
      "Pereca -> Grabiszyńska, Line: 251, Departure: 23:43:00, Arrival: 23:44:00\n",
      "Grabiszyńska -> Kolejowa, Line: 11, Departure: 23:52:00, Arrival: 23:53:00\n",
      "\n",
      "Starting time: 2023-03-02 23:07:00\n",
      "Total journey time: 0:46:00\n"
     ]
    },
    {
     "name": "stderr",
     "output_type": "stream",
     "text": [
      "Minimized Criterion: Travel Time\n",
      "Time Required: 0.003004789352416992\n"
     ]
    }
   ],
   "source": [
    "start_stop = \"Pereca\"\n",
    "stops_to_visit = \"Grabiszyńska;Kolejowa\"\n",
    "\n",
    "try:\n",
    "    stops_to_visit = stops_to_visit.split(';')\n",
    "except AttributeError:\n",
    "    print(\"Error: Stops to visit must be provided as a semicolon-separated list.\", file=sys.stderr)\n",
    "    sys.exit(1)\n",
    "except Exception as e:\n",
    "    print(f\"An unexpected error occurred: {str(e)}\", file=sys.stderr)\n",
    "    sys.exit(1)\n",
    "    \n",
    "criterion = \"t\"\n",
    "if criterion != 'p' and criterion != 't':\n",
    "    raise argparse.ArgumentTypeError(\"Optimization criterion should be either 't' or 'p'.\")\n",
    "\n",
    "k = len(stops_to_visit)\n",
    "\n",
    "epsilon = 0.5\n",
    "if epsilon >= 1 or epsilon <= 0:\n",
    "    raise argparse.ArgumentTypeError(\"Epsilon must be between 0 and 1.\")\n",
    "\n",
    "start_time = \"23:07:00\"\n",
    "start_time = parse_time(start_time)\n",
    "\n",
    "minimized_criterion_value = \"Travel Time\" if criterion == 't' else \"Number of Transfers\"\n",
    "\n",
    "start = time.time()\n",
    "tabu_path, tabu_time = tabu_search_aspiration(graph, start_stop, stops_to_visit, criterion, start_time, epsilon, k)\n",
    "end = time.time()\n",
    "\n",
    "req_time = end - start\n",
    "\n",
    "\n",
    "print_path(tabu_path)\n",
    "\n",
    "print()\n",
    "print(f\"Starting time: {start_time}\")\n",
    "print(f\"Total journey time: {tabu_time}\")\n",
    "print(f\"Minimized Criterion: {minimized_criterion_value}\", file=sys.stderr)\n",
    "print(f\"Time Required: {req_time}\", file=sys.stderr)"
   ]
  },
  {
   "cell_type": "code",
   "execution_count": 74,
   "metadata": {},
   "outputs": [
    {
     "name": "stdout",
     "output_type": "stream",
     "text": [
      "Kasprowicza -> Syrokomli, Line: 315, Departure: 19:08:00, Arrival: 19:09:00\n",
      "Syrokomli -> Pola, Line: 315, Departure: 19:09:00, Arrival: 19:10:00\n",
      "Pola -> Broniewskiego, Line: 315, Departure: 19:10:00, Arrival: 19:12:00\n",
      "Broniewskiego -> Bałtycka, Line: 315, Departure: 19:12:00, Arrival: 19:14:00\n",
      "\n",
      "Starting time: 2023-03-02 19:07:00\n",
      "Total journey time: 0:07:00\n"
     ]
    },
    {
     "name": "stderr",
     "output_type": "stream",
     "text": [
      "Minimized Criterion: Number of Transfers\n",
      "Time Required: 0.009521007537841797\n"
     ]
    }
   ],
   "source": [
    "start_stop = \"Kasprowicza\"\n",
    "stops_to_visit = \"Syrokomli;Broniewskiego;Bałtycka;Pola\"\n",
    "\n",
    "try:\n",
    "    stops_to_visit = stops_to_visit.split(';')\n",
    "except AttributeError:\n",
    "    print(\"Error: Stops to visit must be provided as a semicolon-separated list.\", file=sys.stderr)\n",
    "    sys.exit(1)\n",
    "except Exception as e:\n",
    "    print(f\"An unexpected error occurred: {str(e)}\", file=sys.stderr)\n",
    "    sys.exit(1)\n",
    "    \n",
    "criterion = \"p\"\n",
    "if criterion != 'p' and criterion != 't':\n",
    "    raise argparse.ArgumentTypeError(\"Optimization criterion should be either 't' or 'p'.\")\n",
    "\n",
    "k = len(stops_to_visit)\n",
    "\n",
    "epsilon = 0.5\n",
    "if epsilon >= 1 or epsilon <= 0:\n",
    "    raise argparse.ArgumentTypeError(\"Epsilon must be between 0 and 1.\")\n",
    "\n",
    "start_time = \"19:07:00\"\n",
    "start_time = parse_time(start_time)\n",
    "\n",
    "minimized_criterion_value = \"Travel Time\" if criterion == 't' else \"Number of Transfers\"\n",
    "\n",
    "start = time.time()\n",
    "tabu_path, tabu_time = tabu_search_aspiration(graph, start_stop, stops_to_visit, criterion, start_time, epsilon, k)\n",
    "end = time.time()\n",
    "\n",
    "req_time = end - start\n",
    "\n",
    "\n",
    "print_path(tabu_path)\n",
    "\n",
    "print()\n",
    "print(f\"Starting time: {start_time}\")\n",
    "print(f\"Total journey time: {tabu_time}\")\n",
    "print(f\"Minimized Criterion: {minimized_criterion_value}\", file=sys.stderr)\n",
    "print(f\"Time Required: {req_time}\", file=sys.stderr)"
   ]
  },
  {
   "cell_type": "markdown",
   "metadata": {},
   "source": [
    "### Sampling strategy\n",
    "Now another modification—we will add a neighbor sampling strategy."
   ]
  },
  {
   "cell_type": "code",
   "execution_count": 23,
   "metadata": {},
   "outputs": [],
   "source": [
    "def tabu_search_with_neighbor_sampling(graph, start_stop, stops_to_visit, criterion, start_time, sampling_ratio=0.5):\n",
    "    current_stop = start_stop\n",
    "    current_time = start_time\n",
    "    visited_stops = [current_stop]\n",
    "    current_path = []\n",
    "    tabu_list = []\n",
    "\n",
    "    while stops_to_visit:\n",
    "        neighbors = graph.get_connections(current_stop)\n",
    "        sampled_neighbors = random.sample(neighbors, int(len(neighbors) * sampling_ratio))\n",
    "        best_neighbor = None\n",
    "        best_cost = float('inf')\n",
    "\n",
    "        for neighbor in sampled_neighbors:\n",
    "            if neighbor.end_stop in visited_stops or (current_stop, neighbor.end_stop) in tabu_list:\n",
    "                continue\n",
    "\n",
    "            if neighbor.end_stop in stops_to_visit:\n",
    "                if current_time <= neighbor.departure_time:\n",
    "                    new_path = current_path + [neighbor]\n",
    "                    cost = objective_function(new_path, current_time, criterion)\n",
    "                    if cost < best_cost:\n",
    "                        best_cost = cost\n",
    "                        best_neighbor = neighbor\n",
    "\n",
    "        if best_neighbor:\n",
    "            visited_stops.append(best_neighbor.end_stop)\n",
    "            current_path.append(best_neighbor)\n",
    "            current_stop = best_neighbor.end_stop\n",
    "            current_time = best_neighbor.arrival_time\n",
    "            stops_to_visit.remove(current_stop)\n",
    "            tabu_list.append((current_stop, current_path[-1].end_stop))\n",
    "            if len(tabu_list) > len(graph.graph):\n",
    "                tabu_list.pop(0)\n",
    "\n",
    "    total_journey_time = current_time - start_time\n",
    "    return current_path, total_journey_time"
   ]
  },
  {
   "cell_type": "markdown",
   "metadata": {},
   "source": [
    "And some sample testing data:"
   ]
  },
  {
   "cell_type": "code",
   "execution_count": 24,
   "metadata": {},
   "outputs": [
    {
     "name": "stdout",
     "output_type": "stream",
     "text": [
      "Pereca -> Grabiszyńska, Line: 11, Departure: 12:07:00, Arrival: 12:08:00\n",
      "Grabiszyńska -> Kolejowa, Line: 11, Departure: 12:08:00, Arrival: 12:09:00\n",
      "Kolejowa -> pl. Legionów, Line: 11, Departure: 12:09:00, Arrival: 12:11:00\n",
      "pl. Legionów -> Arkady (Capitol), Line: 15, Departure: 12:13:00, Arrival: 12:15:00\n",
      "Arkady (Capitol) -> DWORZEC GŁÓWNY, Line: 23, Departure: 12:16:00, Arrival: 12:19:00\n",
      "DWORZEC GŁÓWNY -> Pułaskiego, Line: 22, Departure: 12:22:00, Arrival: 12:24:00\n",
      "Pułaskiego -> Kościuszki, Line: 4, Departure: 12:28:00, Arrival: 12:30:00\n",
      "\n",
      "Starting time: 2023-03-02 12:07:00\n",
      "Total journey time: 0:23:00\n"
     ]
    },
    {
     "name": "stderr",
     "output_type": "stream",
     "text": [
      "Minimized Criterion: Travel Time\n",
      "Time Required: 0.018000364303588867\n"
     ]
    }
   ],
   "source": [
    "start_stop = \"Pereca\"\n",
    "stops_to_visit = \"Pułaskiego;Kolejowa;Grabiszyńska;pl. Legionów;Kościuszki;Arkady (Capitol);DWORZEC GŁÓWNY\"\n",
    "\n",
    "try:\n",
    "    stops_to_visit = stops_to_visit.split(';')\n",
    "except AttributeError:\n",
    "    print(\"Error: Stops to visit must be provided as a semicolon-separated list.\", file=sys.stderr)\n",
    "    sys.exit(1)\n",
    "except Exception as e:\n",
    "    print(f\"An unexpected error occurred: {str(e)}\", file=sys.stderr)\n",
    "    sys.exit(1)\n",
    "    \n",
    "criterion = \"t\"\n",
    "if criterion != 'p' and criterion != 't':\n",
    "    raise argparse.ArgumentTypeError(\"Optimization criterion should be either 't' or 'p'.\")\n",
    "\n",
    "start_time = \"12:07:00\"\n",
    "start_time = parse_time(start_time)\n",
    "\n",
    "minimized_criterion_value = \"Travel Time\" if criterion == 't' else \"Number of Transfers\"\n",
    "\n",
    "start = time.time()\n",
    "tabu_path, tabu_time = tabu_search_with_neighbor_sampling(graph, start_stop, stops_to_visit, criterion, start_time)\n",
    "end = time.time()\n",
    "\n",
    "req_time = end - start\n",
    "\n",
    "\n",
    "print_path(tabu_path)\n",
    "\n",
    "print()\n",
    "print(f\"Starting time: {start_time}\")\n",
    "print(f\"Total journey time: {tabu_time}\")\n",
    "print(f\"Minimized Criterion: {minimized_criterion_value}\", file=sys.stderr)\n",
    "print(f\"Time Required: {req_time}\", file=sys.stderr)"
   ]
  },
  {
   "cell_type": "code",
   "execution_count": 30,
   "metadata": {},
   "outputs": [
    {
     "name": "stdout",
     "output_type": "stream",
     "text": [
      "Kościuszki -> Komuny Paryskiej, Line: 16, Departure: 14:42:00, Arrival: 14:43:00\n",
      "Komuny Paryskiej -> pl. Wróblewskiego, Line: 16, Departure: 17:12:00, Arrival: 17:14:00\n",
      "pl. Wróblewskiego -> Urząd Wojewódzki (Impart), Line: 16, Departure: 18:08:00, Arrival: 18:10:00\n",
      "\n",
      "Starting time: 2023-03-02 12:07:00\n",
      "Total journey time: 6:03:00\n"
     ]
    },
    {
     "name": "stderr",
     "output_type": "stream",
     "text": [
      "Minimized Criterion: Number of Transfers\n",
      "Time Required: 0.0029997825622558594\n"
     ]
    }
   ],
   "source": [
    "start_stop = \"Kościuszki\"\n",
    "stops_to_visit = \"Komuny Paryskiej;pl. Wróblewskiego;Urząd Wojewódzki (Impart)\"\n",
    "\n",
    "try:\n",
    "    stops_to_visit = stops_to_visit.split(';')\n",
    "except AttributeError:\n",
    "    print(\"Error: Stops to visit must be provided as a semicolon-separated list.\", file=sys.stderr)\n",
    "    sys.exit(1)\n",
    "except Exception as e:\n",
    "    print(f\"An unexpected error occurred: {str(e)}\", file=sys.stderr)\n",
    "    sys.exit(1)\n",
    "    \n",
    "criterion = \"p\"\n",
    "if criterion != 'p' and criterion != 't':\n",
    "    raise argparse.ArgumentTypeError(\"Optimization criterion should be either 't' or 'p'.\")\n",
    "\n",
    "start_time = \"12:07:00\"\n",
    "start_time = parse_time(start_time)\n",
    "\n",
    "minimized_criterion_value = \"Travel Time\" if criterion == 't' else \"Number of Transfers\"\n",
    "\n",
    "start = time.time()\n",
    "tabu_path, tabu_time = tabu_search_with_neighbor_sampling(graph, start_stop, stops_to_visit, criterion, start_time)\n",
    "end = time.time()\n",
    "\n",
    "req_time = end - start\n",
    "\n",
    "\n",
    "print_path(tabu_path)\n",
    "\n",
    "print()\n",
    "print(f\"Starting time: {start_time}\")\n",
    "print(f\"Total journey time: {tabu_time}\")\n",
    "print(f\"Minimized Criterion: {minimized_criterion_value}\", file=sys.stderr)\n",
    "print(f\"Time Required: {req_time}\", file=sys.stderr)"
   ]
  }
 ],
 "metadata": {
  "kernelspec": {
   "display_name": "Python 3",
   "language": "python",
   "name": "python3"
  },
  "language_info": {
   "codemirror_mode": {
    "name": "ipython",
    "version": 3
   },
   "file_extension": ".py",
   "mimetype": "text/x-python",
   "name": "python",
   "nbconvert_exporter": "python",
   "pygments_lexer": "ipython3",
   "version": "3.11.5"
  }
 },
 "nbformat": 4,
 "nbformat_minor": 2
}
